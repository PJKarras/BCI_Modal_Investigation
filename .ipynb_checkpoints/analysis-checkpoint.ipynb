{
 "cells": [
  {
   "cell_type": "code",
   "execution_count": 8,
   "metadata": {},
   "outputs": [],
   "source": [
    "import pandas as pd\n",
    "import numpy as np\n",
    "import os\n",
    "import csv\n",
    "import time\n",
    "import re"
   ]
  },
  {
   "cell_type": "code",
   "execution_count": 9,
   "metadata": {},
   "outputs": [],
   "source": [
    "\"\"\" \n",
    "Helper Functions, not all are used \n",
    "\"\"\"\n",
    "# Takes in a string that represents name of csv file and \n",
    "# converts that string to one that matches the date string present\n",
    "# in the old master file (old master file refers to the raw excel file\n",
    "# filled with extraneous data from BCI)that contains the date/times \n",
    "# for recorded GPP values\n",
    "def change_csv_date(csv):\n",
    "    minDivFiveFlag = True\n",
    "    year = csv[2:4]\n",
    "    month = csv[5:7]\n",
    "    day = csv[8:10]\n",
    "    hour = csv[11:13]\n",
    "    minute = csv[14:16]\n",
    "    second = \"00\"\n",
    "    if (int(minute) % 5) != 0:\n",
    "        print(\"THIS:\", csv, \"minute not divisible by 5\")\n",
    "        minDivFiveFlag = False\n",
    "    if(int(hour) == 0):\n",
    "        hour = \"0\"\n",
    "    elif(int(hour) < 10):\n",
    "        hour = hour[1:2]\n",
    "    # No leading zeroes in day or month\n",
    "    if(int(month) < 10):\n",
    "        month = month[1:2]\n",
    "    if(int(day) < 10):\n",
    "        day = day[1:2]\n",
    "    result = month + \"/\" + day + \"/\" + year + \" \" + hour + \":\" + minute #+ \":\" + second + \" \" + timeDay\n",
    "    return result\n",
    "# Function that checks if time/date is at 00 minutes\n",
    "def check_zero_time_min(csv):\n",
    "    if csv[14:16] == \"00\":\n",
    "        return True\n",
    "    else:\n",
    "        return False\n",
    "#  and 30 minutes\n",
    "def check_thirty_time_min(csv):\n",
    "    if csv[14:16] == \"30\":\n",
    "        return True\n",
    "    else:\n",
    "        return False\n",
    "# and at specific hour\n",
    "def check_spec_time_hour(csv, hour):\n",
    "    if csv[11:13]==hour:\n",
    "        return True\n",
    "    else:\n",
    "        return False\n",
    "\n",
    "# Takes in csv date (in format 'YYYY_MM_DD_HH_MM_bci_t') and checks to see if minutes are divisble by div\n",
    "def check_csv_date(csv, div):\n",
    "    result = False\n",
    "    minute = int(csv[14:16])\n",
    "    remainder = minute % div\n",
    "    if(remainder == 0):\n",
    "        result = True\n",
    "    else:\n",
    "        result = False\n",
    "    return result\n",
    "\n",
    "# Get int value of hour\n",
    "def get_hour_int(csv):\n",
    "    return int(csv[11:13])\n",
    "\n",
    "def get_min_int(csv):\n",
    "    return int(csv[14:16])\n",
    "    \n",
    "\n",
    "# Takes in csv date (in format 'YYYY_MM_DD_HH_MM_bci_t') and checks to see if it falls within the \"morning\" 4:00am - 12:00pm\n",
    "def time_check_csv_date(csv, regex):\n",
    "    return not (None == regex.match(csv))"
   ]
  },
  {
   "cell_type": "code",
   "execution_count": 10,
   "metadata": {},
   "outputs": [
    {
     "name": "stdout",
     "output_type": "stream",
     "text": [
      "5070\n"
     ]
    }
   ],
   "source": [
    "\"\"\"\n",
    "Determine what range of values are wanted and create list of relevant file names (csvfiles)\n",
    "\"\"\"\n",
    "\n",
    "# Master file holds ALL data colleceted (GPP, date, wind speed, etc) here we just to extract\n",
    "# date and times\n",
    "masterfileLocation = r\"C:\\Users\\Peter\\Desktop\\Thermo_R_Code\\FinalThermo\\new2\"\n",
    "masterFileName = \"all-30min-Apr2018_working.csv\"\n",
    "\n",
    "# Regular expression to select time window \n",
    "# (based on date format of files: YYYY_MM_DD_HH_MM_bci_t)\n",
    "# Here we take all values from June from 6:00am - 8:00pm\n",
    "regex_time_range = re.compile(\"2015_06_.._(0[6-9]_..|1[0-9]_..|20_00)_bci_t\")\n",
    "\n",
    "# Create list of all avaialble thermal CSV values\n",
    "csvdataLocation = r\"D:\\BCIDataBackup\"\n",
    "(_, _, csvfiles) = next(os.walk(csvdataLocation))\n",
    "\n",
    "# Remove any items that arent thermal image csv files (in this case filtering by file name)\n",
    "csvfiles = [item for item in csvfiles if 'bci_t' in item]\n",
    "# Remove files not within date range with regex\n",
    "csvfiles = [item for item in csvfiles if time_check_csv_date(item,regex_time_range)]\n",
    "\n",
    "print(len(csvfiles))"
   ]
  },
  {
   "cell_type": "code",
   "execution_count": 11,
   "metadata": {},
   "outputs": [
    {
     "name": "stdout",
     "output_type": "stream",
     "text": [
      "<class 'list'>\n"
     ]
    }
   ],
   "source": [
    "print(type(csvfiles))"
   ]
  },
  {
   "cell_type": "code",
   "execution_count": 13,
   "metadata": {},
   "outputs": [
    {
     "ename": "NameError",
     "evalue": "name 'np' is not defined",
     "output_type": "error",
     "traceback": [
      "\u001b[1;31m---------------------------------------------------------------------------\u001b[0m",
      "\u001b[1;31mNameError\u001b[0m                                 Traceback (most recent call last)",
      "\u001b[1;32m<ipython-input-13-1cc541252f26>\u001b[0m in \u001b[0;36m<module>\u001b[1;34m\u001b[0m\n\u001b[0;32m     11\u001b[0m \u001b[1;32mfor\u001b[0m \u001b[0mfilename\u001b[0m \u001b[1;32min\u001b[0m \u001b[0mcsvfiles\u001b[0m\u001b[1;33m:\u001b[0m\u001b[1;33m\u001b[0m\u001b[1;33m\u001b[0m\u001b[0m\n\u001b[0;32m     12\u001b[0m     \u001b[0mcsv_dataframe\u001b[0m \u001b[1;33m=\u001b[0m \u001b[0mpd\u001b[0m\u001b[1;33m.\u001b[0m\u001b[0mread_csv\u001b[0m\u001b[1;33m(\u001b[0m\u001b[0mfilename\u001b[0m\u001b[1;33m)\u001b[0m\u001b[1;33m\u001b[0m\u001b[1;33m\u001b[0m\u001b[0m\n\u001b[1;32m---> 13\u001b[1;33m     \u001b[0mcsv_numpy\u001b[0m \u001b[1;33m=\u001b[0m \u001b[1;33m(\u001b[0m\u001b[0mnp\u001b[0m\u001b[1;33m.\u001b[0m\u001b[0masarray\u001b[0m\u001b[1;33m(\u001b[0m\u001b[0mcsv_dataframe\u001b[0m\u001b[1;33m)\u001b[0m\u001b[1;33m)\u001b[0m\u001b[1;33m.\u001b[0m\u001b[0mflatten\u001b[0m\u001b[1;33m(\u001b[0m\u001b[1;33m)\u001b[0m\u001b[1;33m\u001b[0m\u001b[1;33m\u001b[0m\u001b[0m\n\u001b[0m\u001b[0;32m     14\u001b[0m     \u001b[0mprint\u001b[0m\u001b[1;33m(\u001b[0m\u001b[0mcsv_numpy\u001b[0m\u001b[1;33m)\u001b[0m\u001b[1;33m\u001b[0m\u001b[1;33m\u001b[0m\u001b[0m\n\u001b[0;32m     15\u001b[0m     \u001b[1;32mbreak\u001b[0m\u001b[1;33m\u001b[0m\u001b[1;33m\u001b[0m\u001b[0m\n",
      "\u001b[1;31mNameError\u001b[0m: name 'np' is not defined"
     ]
    }
   ],
   "source": [
    "# Data for grabbing particular part of image (here by horizontal strips of which \n",
    "# are vertical in saved files)\n",
    "#(top row) 240 - 0 (bottom row)\n",
    "start_col = 230\n",
    "end_col = 130\n",
    "cols = ['V' + str(x) for x in range(start_col, end_col,-1)]\n",
    "\n",
    "os.chdir(r\"D:\\BCIDataBackup\")\n",
    "\n",
    "# need to loop through files, take in, and then take mean mode etc...., HISTOGRAM\n",
    "for filename in csvfiles:\n",
    "    csv_dataframe = pd.read_csv(filename)\n",
    "    csv_numpy = (np.asarray(csv_dataframe)).flatten()\n",
    "    print(csv_numpy)\n",
    "    break\n",
    "    "
   ]
  },
  {
   "cell_type": "code",
   "execution_count": null,
   "metadata": {},
   "outputs": [],
   "source": []
  }
 ],
 "metadata": {
  "kernelspec": {
   "display_name": "Python 3",
   "language": "python",
   "name": "python3"
  },
  "language_info": {
   "codemirror_mode": {
    "name": "ipython",
    "version": 3
   },
   "file_extension": ".py",
   "mimetype": "text/x-python",
   "name": "python",
   "nbconvert_exporter": "python",
   "pygments_lexer": "ipython3",
   "version": "3.7.4"
  }
 },
 "nbformat": 4,
 "nbformat_minor": 2
}
